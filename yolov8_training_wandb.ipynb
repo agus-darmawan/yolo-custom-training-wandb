{
 "cells": [
  {
   "cell_type": "markdown",
   "metadata": {},
   "source": [
    "### GPU Setup\n",
    "We will be using GPU for training the model. Let's make sure that we have access to GPU. We can use `nvidia-smi` command to do that. "
   ]
  },
  {
   "cell_type": "code",
   "execution_count": null,
   "metadata": {
    "vscode": {
     "languageId": "plaintext"
    }
   },
   "outputs": [],
   "source": [
    "!nvidia-smi"
   ]
  },
  {
   "cell_type": "markdown",
   "metadata": {},
   "source": [
    "### Install YOLOv8\n",
    "Install YOLOv8 (version 8.x.x) and check if it's already installed. If not, it will install automatically.\n"
   ]
  },
  {
   "cell_type": "code",
   "execution_count": null,
   "metadata": {
    "vscode": {
     "languageId": "plaintext"
    }
   },
   "outputs": [],
   "source": [
    "try:\n",
    "    import ultralytics\n",
    "    print(\"ultralytics is already installed\")\n",
    "except ImportError:\n",
    "    print(\"ultralytics is not installed, installing...\")\n",
    "    !pip install 'ultralytics>=8,<9' -q\n",
    "\n",
    "import ultralytics\n",
    "ultralytics.checks()"
   ]
  }
 ],
 "metadata": {
  "language_info": {
   "name": "python"
  }
 },
 "nbformat": 4,
 "nbformat_minor": 2
}
